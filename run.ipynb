{
 "cells": [
  {
   "cell_type": "markdown",
   "metadata": {},
   "source": [
    "### Environment"
   ]
  },
  {
   "cell_type": "code",
   "execution_count": null,
   "metadata": {},
   "outputs": [],
   "source": [
    "# 切换conda虚拟环境\n",
    "# source /opt/conda/bin/activate"
   ]
  },
  {
   "cell_type": "markdown",
   "metadata": {},
   "source": [
    "### Dataset"
   ]
  },
  {
   "cell_type": "code",
   "execution_count": null,
   "metadata": {},
   "outputs": [],
   "source": [
    "# 数据集\n",
    "!unzip /home/share/MOT17Det.zip -d /home/ByteTrack/datasets/mot\n",
    "!unzip /home/share/MOT20.zip -d /home/ByteTrack/datasets"
   ]
  },
  {
   "cell_type": "code",
   "execution_count": null,
   "metadata": {},
   "outputs": [],
   "source": [
    "%cd /home/ByteTrack\n",
    "!python tools/convert_mot17_to_coco.py\n",
    "!python tools/convert_mot20_to_coco.py\n",
    "!python tools/convert_crowdhuman_to_coco.py\n",
    "!python tools/convert_cityperson_to_coco.py\n",
    "!python tools/convert_ethz_to_coco.py"
   ]
  },
  {
   "cell_type": "code",
   "execution_count": null,
   "metadata": {},
   "outputs": [],
   "source": [
    "!python tools/mix_data_ablation.py\n",
    "!python tools/mix_data_test_mot17.py\n",
    "!python tools/mix_data_test_mot20.py"
   ]
  },
  {
   "cell_type": "markdown",
   "metadata": {},
   "source": [
    "### Train"
   ]
  },
  {
   "cell_type": "code",
   "execution_count": null,
   "metadata": {},
   "outputs": [],
   "source": [
    "# Train MOT17 test model (MOT17 train, CrowdHuman, Cityperson and ETHZ)\n",
    "!python tools/train.py -f exps/example/mot/yolox_x_mix_det.py -d 8 -b 48 --fp16 -o -c pretrained/yolox_x.pth.tar"
   ]
  },
  {
   "cell_type": "code",
   "execution_count": null,
   "metadata": {},
   "outputs": [],
   "source": [
    "# Train MOT20 test model (MOT20 train, CrowdHuman)\n",
    "!python tools/train.py -f exps/example/mot/yolox_x_mix_mot20_ch.py -d 1 -b 4 --fp16 -o -c pretrained/yolox_x.pth.tar\n",
    "# !python tools/train.py -f exps/example/mot/yolox_x_mix_mot20_ch.py -d 1 -b 4 --resume --fp16 -o -c YOLOX_outputs/yolox_x_mix_mot20_ch/latest_ckpt.pth.tar"
   ]
  },
  {
   "cell_type": "markdown",
   "metadata": {},
   "source": [
    "### Inference"
   ]
  },
  {
   "cell_type": "code",
   "execution_count": null,
   "metadata": {},
   "outputs": [],
   "source": [
    "# Evaluation on MOT17 half val\n",
    "!python tools/track.py -f exps/example/mot/yolox_x_ablation.py -c pretrained/bytetrack_ablation.pth.tar -b 1 -d 1 --fp16 --fuse"
   ]
  },
  {
   "cell_type": "code",
   "execution_count": 3,
   "metadata": {},
   "outputs": [
    {
     "name": "stdout",
     "output_type": "stream",
     "text": [
      "/home/ByteTrack\n",
      "\u001b[32m2022-12-02 02:41:08.312\u001b[0m | \u001b[1mINFO    \u001b[0m | \u001b[36m__main__\u001b[0m:\u001b[36mmain\u001b[0m:\u001b[36m316\u001b[0m - \u001b[1mArgs: Namespace(aspect_ratio_thresh=1.6, camid=0, ckpt='YOLOX_outputs/yolox_x_mix_mot20_ch/latest_ckpt.pth.tar', conf=None, demo='image', device=device(type='cuda'), exp_file='exps/example/mot/yolox_x_mix_det.py', experiment_name='yolox_x_mix_det', fp16=True, fps=30, fuse=True, match_thresh=0.8, min_box_area=10, mot20=False, name=None, nms=None, path='./datasets/test', save_result=True, track_buffer=30, track_thresh=0.5, trt=False, tsize=None)\u001b[0m\n",
      "\u001b[32m2022-12-02 02:41:11.514\u001b[0m | \u001b[1mINFO    \u001b[0m | \u001b[36m__main__\u001b[0m:\u001b[36mmain\u001b[0m:\u001b[36m326\u001b[0m - \u001b[1mModel Summary: Params: 99.00M, Gflops: 793.21\u001b[0m\n",
      "\u001b[32m2022-12-02 02:41:11.516\u001b[0m | \u001b[1mINFO    \u001b[0m | \u001b[36m__main__\u001b[0m:\u001b[36mmain\u001b[0m:\u001b[36m334\u001b[0m - \u001b[1mloading checkpoint\u001b[0m\n",
      "\u001b[32m2022-12-02 02:41:11.841\u001b[0m | \u001b[1mINFO    \u001b[0m | \u001b[36m__main__\u001b[0m:\u001b[36mmain\u001b[0m:\u001b[36m338\u001b[0m - \u001b[1mloaded checkpoint done.\u001b[0m\n",
      "\u001b[32m2022-12-02 02:41:11.841\u001b[0m | \u001b[1mINFO    \u001b[0m | \u001b[36m__main__\u001b[0m:\u001b[36mmain\u001b[0m:\u001b[36m341\u001b[0m - \u001b[1m\tFusing model...\u001b[0m\n",
      "/opt/conda/lib/python3.7/site-packages/torch/nn/modules/module.py:390: UserWarning: The .grad attribute of a Tensor that is not a leaf Tensor is being accessed. Its .grad attribute won't be populated during autograd.backward(). If you indeed want the gradient for a non-leaf Tensor, use .retain_grad() on the non-leaf Tensor. If you access the non-leaf Tensor by mistake, make sure you access the leaf Tensor instead. See github.com/pytorch/pytorch/pull/30531 for more informations.\n",
      "  if param.grad is not None:\n",
      "\u001b[32m2022-12-02 02:41:13.392\u001b[0m | \u001b[1mINFO    \u001b[0m | \u001b[36m__main__\u001b[0m:\u001b[36mimage_demo\u001b[0m:\u001b[36m233\u001b[0m - \u001b[1msave results to ./YOLOX_outputs/yolox_x_mix_det/track_vis/2022_12_02_02_41_12.txt\u001b[0m\n"
     ]
    }
   ],
   "source": [
    "%cd /home/ByteTrack\n",
    "!python tools/demo_track.py image -f exps/example/mot/yolox_x_mix_det.py -c YOLOX_outputs/yolox_x_mix_mot20_ch/latest_ckpt.pth.tar --fp16 --fuse --save_result"
   ]
  },
  {
   "attachments": {},
   "cell_type": "markdown",
   "metadata": {},
   "source": [
    "### Test"
   ]
  },
  {
   "cell_type": "code",
   "execution_count": null,
   "metadata": {},
   "outputs": [],
   "source": [
    "# test on MOT20\n",
    "%cd /home/ByteTrack\n",
    "!python tools/track.py -f exps/example/mot/yolox_x_mix_mot20_ch.py -c YOLOX_outputs/yolox_x_mix_mot20_ch/latest_ckpt.pth.tar -b 1 -d 1 --fp16 --fuse --match_thresh 0.7 --mot20\n",
    "!python tools/interpolation.py"
   ]
  }
 ],
 "metadata": {
  "kernelspec": {
   "display_name": "Python 3.7.12 ('base')",
   "language": "python",
   "name": "python3"
  },
  "language_info": {
   "codemirror_mode": {
    "name": "ipython",
    "version": 3
   },
   "file_extension": ".py",
   "mimetype": "text/x-python",
   "name": "python",
   "nbconvert_exporter": "python",
   "pygments_lexer": "ipython3",
   "version": "3.7.12"
  },
  "orig_nbformat": 4,
  "vscode": {
   "interpreter": {
    "hash": "d4d1e4263499bec80672ea0156c357c1ee493ec2b1c70f0acce89fc37c4a6abe"
   }
  }
 },
 "nbformat": 4,
 "nbformat_minor": 2
}
